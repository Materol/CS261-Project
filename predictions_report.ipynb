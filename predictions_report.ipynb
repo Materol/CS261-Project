{
 "cells": [
  {
   "attachments": {},
   "cell_type": "markdown",
   "metadata": {},
   "source": [
    "# Predictions Report\n",
    "\n",
    "This notebook creates a report of the predictions made by the models.\n"
   ]
  },
  {
   "attachments": {},
   "cell_type": "markdown",
   "metadata": {},
   "source": [
    "## Typical Workflow"
   ]
  },
  {
   "attachments": {},
   "cell_type": "markdown",
   "metadata": {},
   "source": [
    "Naive predictions are quite empty - each Success Metric has a value of 0.0,\n",
    "except for the overall success metric.\n",
    "\n",
    "KNN predictions are more interesting - each Success Metric has a value between\n",
    "1.0 and 5.0. **This is model we are using.** "
   ]
  },
  {
   "attachments": {},
   "cell_type": "markdown",
   "metadata": {},
   "source": [
    "### Input Data"
   ]
  },
  {
   "cell_type": "code",
   "execution_count": 1,
   "metadata": {},
   "outputs": [],
   "source": [
    "# The input from the front end would be a JSON object with the following format.\n",
    "# The one below is formatted for readability, but this does not matter.\n",
    "json_csfs = \"\"\"{\n",
    "    \"OF.01\": 1, \"OF.02\": 2, \"OF.03\": 3, \"OF.04\": 4, \"OF.05\": 1, \"OF.06\": 5,\n",
    "    \"TF.01\": 2, \"TF.02\": 5, \"TF.03\": 3, \"TF.04\": 5, \"TF.05\": 5, \"TF.06\": 4, \"TF.07\": 2,\n",
    "    \"CF.01\": 1, \"CF.02\": 3, \"CF.03\": 3, \"CF.04\": 2,\n",
    "    \"PF.01\": 3, \"PF.02\": 3, \"PF.03\": 1, \"PF.04\": 2, \"PF.05\": 4, \"PF.06\": 4, \"PF.07\": 4\n",
    "}\"\"\""
   ]
  },
  {
   "attachments": {},
   "cell_type": "markdown",
   "metadata": {},
   "source": [
    "### Using the Models"
   ]
  },
  {
   "cell_type": "code",
   "execution_count": 2,
   "metadata": {},
   "outputs": [],
   "source": [
    "import json\n",
    "\n",
    "from predictions.trainer import Trainer\n",
    "from predictions.model_knn import ModelKNN\n",
    "from predictions.model_naive import ModelNaive\n",
    "from predictions.utils import to_json_success_metrics\n",
    "\n",
    "# Trainer class is used to train only the KNN model right now.\n",
    "trainer = Trainer(seed=415324)\n",
    "\n",
    "# We need to convert the JSON string into a dictionary. We can use this as input\n",
    "# into our models.\n",
    "csfs = json.loads(json_csfs)\n",
    "\n",
    "# -------------------------\n",
    "# ------ Naive Model ------\n",
    "# -------------------------\n",
    "naive = ModelNaive()\n",
    "naive_prediction = naive.predict(csfs)\n",
    "\n",
    "json_naive_prediction = to_json_success_metrics(naive_prediction)\n",
    "\n",
    "# ----------------------------------------\n",
    "# ------ K-Nearest Neighbours Model ------\n",
    "# ----------------------------------------\n",
    "# K-Nearest Neighbours model needs to be trained. The simplest way to do this is\n",
    "# to use the Trainer class.\n",
    "knn = ModelKNN()\n",
    "trainer.train_model(knn)\n",
    "knn_prediction = knn.predict(csfs)\n",
    "\n",
    "json_knn_prediction = to_json_success_metrics(knn_prediction)\n"
   ]
  },
  {
   "attachments": {},
   "cell_type": "markdown",
   "metadata": {},
   "source": [
    "### JSON Output"
   ]
  },
  {
   "cell_type": "code",
   "execution_count": 3,
   "metadata": {},
   "outputs": [
    {
     "name": "stdout",
     "output_type": "stream",
     "text": [
      "Naive predictions:\n",
      "{\n",
      "    \"budget\": 0.0,\n",
      "    \"schedule\": 0.0,\n",
      "    \"scope\": 0.0,\n",
      "    \"team_building_and_dynamics\": 0.0,\n",
      "    \"overall_quality\": 0.0,\n",
      "    \"business_and_revenue_generated\": 0.0,\n",
      "    \"functional_suitability\": 0.0,\n",
      "    \"reliability\": 0.0,\n",
      "    \"performance_efficiency\": 0.0,\n",
      "    \"operability\": 0.0,\n",
      "    \"security\": 0.0,\n",
      "    \"compatibility\": 0.0,\n",
      "    \"maintainability\": 0.0,\n",
      "    \"transferability\": 0.0,\n",
      "    \"user_satisfaction\": 0.0,\n",
      "    \"team_satisfaction\": 0.0,\n",
      "    \"top_management_satisfaction\": 0.0,\n",
      "    \"overall_success\": 3.3020134228187916\n",
      "}\n"
     ]
    }
   ],
   "source": [
    "print(\"Naive predictions:\")\n",
    "print(json_naive_prediction)"
   ]
  },
  {
   "cell_type": "code",
   "execution_count": 4,
   "metadata": {},
   "outputs": [
    {
     "name": "stdout",
     "output_type": "stream",
     "text": [
      "KNN predictions:\n",
      "{\n",
      "    \"budget\": 4.0,\n",
      "    \"schedule\": 1.0,\n",
      "    \"scope\": 5.0,\n",
      "    \"team_building_and_dynamics\": 4.0,\n",
      "    \"overall_quality\": 4.0,\n",
      "    \"business_and_revenue_generated\": 4.0,\n",
      "    \"functional_suitability\": 4.0,\n",
      "    \"reliability\": 4.0,\n",
      "    \"performance_efficiency\": 3.0,\n",
      "    \"operability\": 4.0,\n",
      "    \"security\": 3.0,\n",
      "    \"compatibility\": 4.0,\n",
      "    \"maintainability\": 3.0,\n",
      "    \"transferability\": 3.0,\n",
      "    \"user_satisfaction\": 4.0,\n",
      "    \"team_satisfaction\": 3.0,\n",
      "    \"top_management_satisfaction\": 4.0,\n",
      "    \"overall_success\": 3.588235294117647\n",
      "}\n"
     ]
    }
   ],
   "source": [
    "print(\"KNN predictions:\")\n",
    "print(json_knn_prediction)"
   ]
  },
  {
   "attachments": {},
   "cell_type": "markdown",
   "metadata": {},
   "source": [
    "## Model Comparison\n",
    "\n",
    "We aim to compare a random model, a naive model, and a KNN model.\n",
    "\n",
    "We have the test data in `trainer.test_x` and `trainer.test_y`. These follow the\n",
    "order of `ALL_CSFS` and `ALL_SUCCESS_METRICS`.\n",
    "\n",
    "We use these, to calculate the accuracy of the models on unseen data -\n",
    "effectively calculating how well the models generalise."
   ]
  },
  {
   "cell_type": "code",
   "execution_count": 5,
   "metadata": {},
   "outputs": [],
   "source": [
    "from predictions.critical_success_factors import ALL_CSFS\n",
    "from predictions.success_metrics import ALL_SUCCESS_METRICS"
   ]
  },
  {
   "cell_type": "code",
   "execution_count": 6,
   "metadata": {},
   "outputs": [
    {
     "name": "stdout",
     "output_type": "stream",
     "text": [
      "Test Inputs:\n",
      "Shape: (31, 24), len of ALL_CSFS: 24\n",
      "[[4 2 2 4 4 2 4 4 2 4 4 4 4 5 5 4 5 2 3 5 5 4 5 2]\n",
      " [3 5 3 3 3 3 4 3 4 5 4 4 3 5 5 3 4 4 4 4 3 4 4 3]\n",
      " [3 2 4 2 3 3 4 4 2 2 2 3 4 4 4 3 4 2 3 5 2 3 4 4]\n",
      " [1 3 1 3 2 3 3 3 3 2 4 4 4 3 3 4 4 5 3 5 1 3 3 3]\n",
      " [2 4 2 4 3 3 4 4 3 3 3 3 4 1 1 2 3 2 2 1 1 4 2 3]\n",
      " [4 3 3 5 3 4 4 2 3 1 3 3 3 3 3 2 3 3 3 4 3 4 3 2]\n",
      " [3 3 3 5 4 3 4 4 2 3 4 4 3 3 3 2 4 2 4 3 3 3 5 1]\n",
      " [4 4 5 4 4 5 5 5 5 5 5 4 5 5 5 4 5 4 4 5 3 3 5 2]\n",
      " [4 4 4 4 4 5 5 5 3 3 4 4 4 4 3 3 4 2 4 2 3 4 3 4]\n",
      " [5 5 3 3 4 3 4 5 4 3 5 5 5 5 5 5 4 4 4 4 1 4 4 1]\n",
      " [1 3 1 2 1 1 2 4 3 1 3 3 2 1 1 1 2 4 4 3 3 4 2 1]\n",
      " [5 5 4 4 4 2 5 5 5 3 3 1 3 5 5 3 3 3 3 3 2 3 2 2]\n",
      " [2 5 3 3 2 3 4 4 3 4 3 3 3 3 4 4 4 3 5 4 3 4 4 1]\n",
      " [5 4 5 3 4 3 4 4 4 3 4 4 4 3 3 3 4 4 3 4 3 3 2 3]\n",
      " [4 3 4 5 4 5 4 4 4 3 3 4 4 4 4 4 5 3 3 2 1 3 2 4]\n",
      " [2 3 1 4 2 1 1 3 2 2 4 3 2 1 5 1 1 3 4 5 5 5 4 1]\n",
      " [3 1 5 4 4 5 4 5 4 5 5 5 5 4 4 4 5 3 4 4 2 3 4 1]\n",
      " [2 3 3 3 3 3 3 3 3 2 3 3 3 2 4 2 2 2 3 3 3 3 4 2]\n",
      " [2 1 5 5 4 4 4 4 3 4 4 4 4 3 4 3 5 2 5 2 3 4 4 3]\n",
      " [3 1 2 5 4 3 4 4 5 2 3 3 3 4 4 3 3 2 5 4 3 5 5 2]\n",
      " [5 5 4 2 3 3 4 5 3 2 3 5 4 4 4 1 5 2 3 3 1 2 3 5]\n",
      " [3 2 4 3 3 3 4 4 2 2 2 4 4 4 3 3 4 3 3 4 3 3 4 4]\n",
      " [4 3 5 5 5 5 3 5 4 5 5 5 5 1 1 2 3 4 4 3 1 2 5 4]\n",
      " [5 4 4 4 5 2 5 1 2 5 4 5 4 3 3 5 3 5 4 2 2 5 2 5]\n",
      " [1 1 4 5 5 3 5 4 2 5 4 4 4 1 1 1 3 1 4 5 3 5 3 5]\n",
      " [3 3 2 4 3 1 3 4 3 2 4 4 3 2 2 2 3 2 3 3 3 2 3 4]\n",
      " [4 2 4 3 3 2 4 3 3 2 3 3 3 4 4 3 4 2 3 3 1 2 5 3]\n",
      " [3 3 2 3 3 1 5 5 4 3 3 3 3 2 3 3 4 4 3 3 1 4 4 4]\n",
      " [3 3 3 4 3 3 3 4 3 3 3 4 3 4 4 4 4 4 3 2 2 2 3 4]\n",
      " [4 3 3 3 4 3 4 4 3 3 4 4 4 5 4 4 4 3 4 3 3 4 4 3]\n",
      " [4 1 5 5 5 5 5 5 5 5 5 5 4 3 3 3 4 5 5 4 5 3 5 5]]\n"
     ]
    }
   ],
   "source": [
    "print(\"Test Inputs:\")\n",
    "print(f\"Shape: {trainer.test_x.shape}, len of ALL_CSFS: {len(ALL_CSFS)}\")\n",
    "print(trainer.test_x)"
   ]
  },
  {
   "cell_type": "code",
   "execution_count": 7,
   "metadata": {},
   "outputs": [
    {
     "name": "stdout",
     "output_type": "stream",
     "text": [
      "Test Outputs:\n",
      "Shape: (31, 18), len of ALL_SUCCESS_METRICS: 18\n",
      "[[5.   5.   5.   4.   4.   5.   5.   5.   4.   4.   5.   4.   5.   4.\n",
      "  5.   5.   5.   4.65]\n",
      " [4.   4.   4.   4.   4.   3.   4.   4.   4.   3.   2.   4.   4.   3.\n",
      "  4.   4.   4.   3.47]\n",
      " [4.   3.   3.   3.   4.   3.   4.   4.   4.   5.   4.   4.   4.   4.\n",
      "  4.   4.   4.   3.82]\n",
      " [4.   4.   4.   4.   3.   4.   4.   4.   4.   4.   3.   4.   5.   5.\n",
      "  4.   3.   3.   3.88]\n",
      " [4.   1.   4.   4.   3.   4.   3.   3.   2.   4.   4.   4.   2.   3.\n",
      "  4.   4.   4.   2.24]\n",
      " [3.   5.   3.   4.   4.   5.   4.   4.   4.   4.   3.   3.   4.   4.\n",
      "  4.   4.   4.   3.65]\n",
      " [4.   2.   5.   4.   4.   4.   4.   4.   3.   5.   1.   4.   3.   1.\n",
      "  4.   4.   5.   3.59]\n",
      " [1.   3.   5.   4.   5.   3.   5.   5.   5.   5.   4.   5.   5.   5.\n",
      "  4.   5.   4.   4.06]\n",
      " [4.   5.   5.   5.   4.   4.   5.   4.   4.   4.   4.   3.   4.   3.\n",
      "  4.   4.   4.   4.12]\n",
      " [2.   3.   4.   5.   4.   4.   4.   4.   4.   4.   4.   4.   4.   4.\n",
      "  4.   4.   4.   3.88]\n",
      " [4.   4.   2.   2.   2.   2.   2.   2.   2.   2.   2.   3.   3.   3.\n",
      "  2.   1.   3.   2.41]\n",
      " [4.   4.   1.   4.   3.   4.   4.   4.   4.   4.   3.   4.   3.   4.\n",
      "  5.   4.   4.   3.47]\n",
      " [2.   2.   4.   3.   3.   4.   3.   4.   2.   4.   3.   3.   1.   1.\n",
      "  4.   4.   3.   2.94]\n",
      " [2.   3.   4.   4.   4.   2.   3.   4.   4.   4.   4.   4.   4.   4.\n",
      "  4.   3.   2.   3.47]\n",
      " [5.   4.   5.   4.   4.   3.   4.   4.   4.   4.   4.   4.   4.   4.\n",
      "  4.   4.   5.   4.12]\n",
      " [5.   4.   4.   3.   3.   1.   1.   2.   3.   2.   3.   3.   1.   1.\n",
      "  2.   2.   3.   2.53]\n",
      " [4.   4.   4.   5.   4.   4.   4.   5.   4.   5.   4.   5.   4.   4.\n",
      "  4.   5.   4.   4.29]\n",
      " [4.   3.   4.   4.   4.   4.   4.   4.   4.   4.   3.   4.   3.   2.\n",
      "  3.   3.   3.   3.53]\n",
      " [4.   2.   5.   4.   4.   4.   4.   3.   3.   4.   4.   4.   3.   2.\n",
      "  4.   4.   4.   3.41]\n",
      " [4.   5.   5.   5.   4.   2.   4.   5.   3.   4.   3.   4.   4.   5.\n",
      "  4.   4.   4.   4.06]\n",
      " [2.   4.   5.   4.   5.   3.   5.   5.   3.   5.   5.   2.   4.   4.\n",
      "  5.   3.   3.   3.71]\n",
      " [4.   3.   3.   4.   4.   3.   4.   5.   4.   4.   4.   4.   4.   3.\n",
      "  4.   4.   4.   3.82]\n",
      " [5.   5.   5.   3.   5.   4.   4.   5.   4.   3.   5.   5.   5.   3.\n",
      "  5.   4.   5.   3.76]\n",
      " [5.   4.   3.   4.   5.   3.   4.   4.   4.   4.   4.   3.   4.   5.\n",
      "  4.   4.   4.   2.82]\n",
      " [2.   2.   1.   5.   5.   4.   5.   5.   5.   5.   4.   5.   5.   5.\n",
      "  4.   3.   3.   3.53]\n",
      " [4.   5.   5.   3.   4.   4.   4.   3.   4.   3.   3.   3.   4.   3.\n",
      "  4.   3.   3.   3.18]\n",
      " [4.   3.   4.   3.   4.   4.   4.   4.   4.   4.   3.   4.   4.   4.\n",
      "  4.   4.   4.   3.35]\n",
      " [2.   4.   3.   4.   3.   1.   3.   4.   4.   4.   4.   4.   4.   3.\n",
      "  4.   3.   3.   1.94]\n",
      " [4.   4.   4.   4.   4.   3.   4.   4.   5.   4.   4.   4.   4.   4.\n",
      "  4.   4.   4.   4.  ]\n",
      " [4.   4.   3.   4.   4.   4.   4.   4.   4.   4.   4.   4.   4.   4.\n",
      "  4.   4.   4.   3.94]\n",
      " [5.   4.   5.   5.   5.   5.   5.   5.   5.   5.   5.   5.   5.   2.\n",
      "  5.   5.   5.   4.76]]\n"
     ]
    }
   ],
   "source": [
    "print(\"Test Outputs:\")\n",
    "print(f\"Shape: {trainer.test_y.shape}, len of ALL_SUCCESS_METRICS: {len(ALL_SUCCESS_METRICS)}\")\n",
    "print(trainer.test_y)"
   ]
  },
  {
   "cell_type": "code",
   "execution_count": 8,
   "metadata": {},
   "outputs": [],
   "source": [
    "import numpy as np\n",
    "\n",
    "from predictions.metrics.analyse import Analyser\n",
    "\n",
    "def error_analysis_per_success_metric(trainer, predictions):\n",
    "    # reports_per_sm is of the form:\n",
    "    # {\n",
    "    #  SuccessMetric: [ { error_metric: value }, { error_metric: value }, ... ],\n",
    "    #  SuccessMetric: [ { error_metric: value }, { error_metric: value }, ... ],\n",
    "    #  ...\n",
    "    # }\n",
    "    reports_per_sm = {}\n",
    "    for i, sm in enumerate(ALL_SUCCESS_METRICS):\n",
    "        report_for_current_sm = []\n",
    "        for j, prediction in enumerate(predictions):\n",
    "            report = Analyser.analyse_model(\n",
    "                predictions=[prediction[i]],\n",
    "                test_labels=[trainer.test_y[j][i]],\n",
    "            )\n",
    "            report_for_current_sm.append(report)\n",
    "\n",
    "        reports_per_sm[sm] = report_for_current_sm\n",
    "\n",
    "    # Average for each success metric per key in the report.\n",
    "    # averages_per_sm is of the form:\n",
    "    # {\n",
    "    #  SuccessMetric: { error_metric: value, error_metric: value, ... },\n",
    "    #  SuccessMetric: { error_metric: value, error_metric: value, ... },\n",
    "    #  ...\n",
    "    # }\n",
    "    averages_per_sm = {}\n",
    "    for sm, reports in reports_per_sm.items():\n",
    "        averages_per_sm[sm] = {}\n",
    "        for report in reports:\n",
    "            for key, value in report.items():\n",
    "                if key not in averages_per_sm[sm]:\n",
    "                    averages_per_sm[sm][key] = []\n",
    "\n",
    "                averages_per_sm[sm][key].append(value)\n",
    "\n",
    "    for sm, averages in averages_per_sm.items():\n",
    "        for key, values in averages.items():\n",
    "            averages[key] = np.mean(values)\n",
    "\n",
    "    return averages_per_sm"
   ]
  },
  {
   "attachments": {},
   "cell_type": "markdown",
   "metadata": {},
   "source": [
    "### Random Predictions\n",
    "\n",
    "To gauge how well the models are doing, we can compare them to random\n",
    "predictions. This will do awfully, but it will give us a baseline."
   ]
  },
  {
   "cell_type": "code",
   "execution_count": 9,
   "metadata": {},
   "outputs": [
    {
     "name": "stdout",
     "output_type": "stream",
     "text": [
      "Averages per success metric:\n",
      "budget: \n",
      "\tMAE: 1.22, \tMSE: 2.54, \tRMSE: 1.22, \tMAPE: 0.32, \tCUSTOM: 3.10, \n",
      "schedule: \n",
      "\tMAE: 1.63, \tMSE: 3.62, \tRMSE: 1.63, \tMAPE: 0.52, \tCUSTOM: 3.55, \n",
      "scope: \n",
      "\tMAE: 1.53, \tMSE: 3.56, \tRMSE: 1.53, \tMAPE: 0.53, \tCUSTOM: 4.03, \n",
      "team_building_and_dynamics: \n",
      "\tMAE: 1.18, \tMSE: 2.46, \tRMSE: 1.18, \tMAPE: 0.29, \tCUSTOM: 3.03, \n",
      "overall_quality: \n",
      "\tMAE: 1.53, \tMSE: 3.10, \tRMSE: 1.53, \tMAPE: 0.39, \tCUSTOM: 4.19, \n",
      "business_and_revenue_generated: \n",
      "\tMAE: 1.27, \tMSE: 2.16, \tRMSE: 1.27, \tMAPE: 0.38, \tCUSTOM: 3.45, \n",
      "functional_suitability: \n",
      "\tMAE: 1.11, \tMSE: 2.01, \tRMSE: 1.11, \tMAPE: 0.30, \tCUSTOM: 2.94, \n",
      "reliability: \n",
      "\tMAE: 1.33, \tMSE: 2.74, \tRMSE: 1.33, \tMAPE: 0.32, \tCUSTOM: 3.61, \n",
      "performance_efficiency: \n",
      "\tMAE: 1.32, \tMSE: 2.42, \tRMSE: 1.32, \tMAPE: 0.35, \tCUSTOM: 3.00, \n",
      "operability: \n",
      "\tMAE: 1.30, \tMSE: 2.82, \tRMSE: 1.30, \tMAPE: 0.33, \tCUSTOM: 3.48, \n",
      "security: \n",
      "\tMAE: 1.50, \tMSE: 3.11, \tRMSE: 1.50, \tMAPE: 0.47, \tCUSTOM: 3.77, \n",
      "compatibility: \n",
      "\tMAE: 1.07, \tMSE: 1.72, \tRMSE: 1.07, \tMAPE: 0.29, \tCUSTOM: 2.23, \n",
      "maintainability: \n",
      "\tMAE: 1.20, \tMSE: 2.40, \tRMSE: 1.20, \tMAPE: 0.37, \tCUSTOM: 3.13, \n",
      "transferability: \n",
      "\tMAE: 1.71, \tMSE: 4.32, \tRMSE: 1.71, \tMAPE: 0.65, \tCUSTOM: 4.68, \n",
      "user_satisfaction: \n",
      "\tMAE: 1.28, \tMSE: 2.30, \tRMSE: 1.28, \tMAPE: 0.33, \tCUSTOM: 3.06, \n",
      "team_satisfaction: \n",
      "\tMAE: 1.32, \tMSE: 2.39, \tRMSE: 1.32, \tMAPE: 0.45, \tCUSTOM: 2.71, \n",
      "top_management_satisfaction: \n",
      "\tMAE: 1.58, \tMSE: 3.63, \tRMSE: 1.58, \tMAPE: 0.40, \tCUSTOM: 4.61, \n",
      "overall_success: \n",
      "\tMAE: 1.18, \tMSE: 1.87, \tRMSE: 1.18, \tMAPE: 0.34, \tCUSTOM: 1.35, \n"
     ]
    }
   ],
   "source": [
    "import random\n",
    "random.seed(42)\n",
    "\n",
    "from predictions.metrics.analyse import Analyser\n",
    "\n",
    "# Predict each sample in the test set using the random model.\n",
    "random_predictions = []\n",
    "for i in range(31):\n",
    "    sms = []\n",
    "    for j in range(18):\n",
    "        sms.append(random.uniform(1, 5))\n",
    "\n",
    "    random_predictions.append(sms)\n",
    "\n",
    "averages_per_sm = error_analysis_per_success_metric(trainer, random_predictions)\n",
    "\n",
    "print(\"Averages per success metric:\")\n",
    "for sm, averages in averages_per_sm.items():\n",
    "    str_builder = f\"{sm.name}: \\n\"\n",
    "    for key, value in averages.items():\n",
    "        str_builder += f\"\\t{key}: {value:.2f}, \"\n",
    "\n",
    "    print(str_builder)"
   ]
  },
  {
   "attachments": {},
   "cell_type": "markdown",
   "metadata": {},
   "source": [
    "### KNN Model Analysis"
   ]
  },
  {
   "cell_type": "code",
   "execution_count": 10,
   "metadata": {},
   "outputs": [
    {
     "name": "stdout",
     "output_type": "stream",
     "text": [
      "Averages per success metric:\n",
      "budget: \n",
      "\tMAE: 0.71, \tMSE: 1.29, \tRMSE: 0.71, \tMAPE: 0.34, \tCUSTOM: 1.06, \n",
      "schedule: \n",
      "\tMAE: 1.23, \tMSE: 2.13, \tRMSE: 1.23, \tMAPE: 0.37, \tCUSTOM: 1.71, \n",
      "scope: \n",
      "\tMAE: 0.84, \tMSE: 1.23, \tRMSE: 0.84, \tMAPE: 0.29, \tCUSTOM: 0.77, \n",
      "team_building_and_dynamics: \n",
      "\tMAE: 0.42, \tMSE: 0.42, \tRMSE: 0.42, \tMAPE: 0.12, \tCUSTOM: 0.00, \n",
      "overall_quality: \n",
      "\tMAE: 0.35, \tMSE: 0.35, \tRMSE: 0.35, \tMAPE: 0.10, \tCUSTOM: 0.00, \n",
      "business_and_revenue_generated: \n",
      "\tMAE: 0.71, \tMSE: 1.23, \tRMSE: 0.71, \tMAPE: 0.37, \tCUSTOM: 0.84, \n",
      "functional_suitability: \n",
      "\tMAE: 0.45, \tMSE: 0.52, \tRMSE: 0.45, \tMAPE: 0.17, \tCUSTOM: 0.13, \n",
      "reliability: \n",
      "\tMAE: 0.45, \tMSE: 0.45, \tRMSE: 0.45, \tMAPE: 0.12, \tCUSTOM: 0.00, \n",
      "performance_efficiency: \n",
      "\tMAE: 0.61, \tMSE: 0.81, \tRMSE: 0.61, \tMAPE: 0.17, \tCUSTOM: 0.39, \n",
      "operability: \n",
      "\tMAE: 0.52, \tMSE: 0.58, \tRMSE: 0.52, \tMAPE: 0.15, \tCUSTOM: 0.13, \n",
      "security: \n",
      "\tMAE: 0.42, \tMSE: 0.55, \tRMSE: 0.42, \tMAPE: 0.18, \tCUSTOM: 0.26, \n",
      "compatibility: \n",
      "\tMAE: 0.45, \tMSE: 0.45, \tRMSE: 0.45, \tMAPE: 0.12, \tCUSTOM: 0.00, \n",
      "maintainability: \n",
      "\tMAE: 0.74, \tMSE: 0.87, \tRMSE: 0.74, \tMAPE: 0.29, \tCUSTOM: 0.26, \n",
      "transferability: \n",
      "\tMAE: 0.74, \tMSE: 1.00, \tRMSE: 0.74, \tMAPE: 0.29, \tCUSTOM: 0.52, \n",
      "user_satisfaction: \n",
      "\tMAE: 0.39, \tMSE: 0.45, \tRMSE: 0.39, \tMAPE: 0.12, \tCUSTOM: 0.13, \n",
      "team_satisfaction: \n",
      "\tMAE: 0.58, \tMSE: 0.58, \tRMSE: 0.58, \tMAPE: 0.15, \tCUSTOM: 0.00, \n",
      "top_management_satisfaction: \n",
      "\tMAE: 0.48, \tMSE: 0.48, \tRMSE: 0.48, \tMAPE: 0.14, \tCUSTOM: 0.00, \n",
      "overall_success: \n",
      "\tMAE: 0.35, \tMSE: 0.28, \tRMSE: 0.35, \tMAPE: 0.12, \tCUSTOM: 0.13, \n"
     ]
    }
   ],
   "source": [
    "import random\n",
    "random.seed(42)\n",
    "\n",
    "from predictions.utils import create_csf_map, extract_success_values\n",
    "\n",
    "# Predict each sample in the test set using the KNN model.\n",
    "knn_predictions = []\n",
    "for x in trainer.test_x:\n",
    "    # Convert to dict from np array.\n",
    "    mapping = create_csf_map()\n",
    "    for csf, value in zip(ALL_CSFS, x):\n",
    "        mapping[csf] = value\n",
    "\n",
    "    prediction = knn.predict(mapping)\n",
    "    prediction = extract_success_values(prediction)\n",
    "\n",
    "    knn_predictions.append(prediction)\n",
    "\n",
    "# Analyse the prediction errors per success metric.\n",
    "averages_per_sm = error_analysis_per_success_metric(trainer, knn_predictions)\n",
    "\n",
    "print(\"Averages per success metric:\")\n",
    "for sm, averages in averages_per_sm.items():\n",
    "    str_builder = f\"{sm.name}: \\n\"\n",
    "    for key, value in averages.items():\n",
    "        str_builder += f\"\\t{key}: {value:.2f}, \"\n",
    "\n",
    "    print(str_builder)"
   ]
  },
  {
   "attachments": {},
   "cell_type": "markdown",
   "metadata": {},
   "source": [
    "### Naive Model Analysis"
   ]
  },
  {
   "cell_type": "code",
   "execution_count": 11,
   "metadata": {},
   "outputs": [
    {
     "name": "stdout",
     "output_type": "stream",
     "text": [
      "Averages per success metric:\n",
      "overall_success: \n",
      "\tMAE: 0.47, \tMSE: 0.33, \tRMSE: 0.47, \tMAPE: 0.15, \tCUSTOM: 0.13, \n"
     ]
    }
   ],
   "source": [
    "import random\n",
    "random.seed(42)\n",
    "\n",
    "from predictions.utils import create_csf_map, extract_success_values\n",
    "\n",
    "# Predict each sample in the test set using the NAIVE model.\n",
    "naive_predictions = []\n",
    "for x in trainer.test_x:\n",
    "    # Convert to dict from np array.\n",
    "    mapping = create_csf_map()\n",
    "    for csf, value in zip(ALL_CSFS, x):\n",
    "        mapping[csf] = value\n",
    "\n",
    "    prediction = naive.predict(mapping)\n",
    "    prediction = extract_success_values(prediction)\n",
    "\n",
    "    naive_predictions.append(prediction)\n",
    "\n",
    "# Analyse the prediction errors per success metric.\n",
    "averages_per_sm = error_analysis_per_success_metric(trainer, naive_predictions)\n",
    "\n",
    "print(\"Averages per success metric:\")\n",
    "for sm, averages in averages_per_sm.items():\n",
    "    if sm.name != \"overall_success\":\n",
    "        continue\n",
    "    str_builder = f\"{sm.name}: \\n\"\n",
    "    for key, value in averages.items():\n",
    "        str_builder += f\"\\t{key}: {value:.2f}, \"\n",
    "\n",
    "    print(str_builder)"
   ]
  },
  {
   "cell_type": "code",
   "execution_count": 12,
   "metadata": {},
   "outputs": [
    {
     "name": "stderr",
     "output_type": "stream",
     "text": [
      "C:\\Users\\Jakub\\AppData\\Local\\Temp/ipykernel_5028/3831826625.py:10: VisibleDeprecationWarning: Creating an ndarray from ragged nested sequences (which is a list-or-tuple of lists-or-tuples-or ndarrays with different lengths or shapes) is deprecated. If you meant to do this, you must specify 'dtype=object' when creating the ndarray.\n",
      "  np.array(knn_predictions)[:, i],\n"
     ]
    },
    {
     "data": {
      "image/png": "[encoded data removed]",
      "text/plain": [
       "<Figure size 720x720 with 1 Axes>"
      ]
     },
     "metadata": {
      "needs_background": "light"
     },
     "output_type": "display_data"
    }
   ],
   "source": [
    "from matplotlib import pyplot as plt\n",
    "\n",
    "# Plot the results, with a line of y = x for reference.\n",
    "fig, ax = plt.subplots(1, 1, figsize=(10, 10))\n",
    "ax.set_title(\"KNN vs Naive Model: Overall Success, test set\")\n",
    "ax.set_xlabel(\"Predicted success\")\n",
    "ax.set_ylabel(\"Actual success\")\n",
    "i = 17\n",
    "ax.scatter(\n",
    "    np.array(knn_predictions)[:, i],\n",
    "    trainer.test_y[:, i],\n",
    "    label=\"KNN\",\n",
    "    color=\"blue\",\n",
    "    alpha=0.5,\n",
    ")\n",
    "ax.scatter(\n",
    "    np.array(naive_predictions)[:, i],\n",
    "    trainer.test_y[:, i],\n",
    "    label=\"Naive\",\n",
    "    color=\"red\",\n",
    "    alpha=0.5,\n",
    ")\n",
    "\n",
    "x = np.linspace(1, 5, 100)\n",
    "ax.plot(x, x, color=\"black\", label=\"y = x\")\n",
    "ax.legend()\n",
    "plt.show()"
   ]
  }
 ],
 "metadata": {
  "kernelspec": {
   "display_name": "climatehack",
   "language": "python",
   "name": "python3"
  },
  "language_info": {
   "codemirror_mode": {
    "name": "ipython",
    "version": 3
   },
   "file_extension": ".py",
   "mimetype": "text/x-python",
   "name": "python",
   "nbconvert_exporter": "python",
   "pygments_lexer": "ipython3",
   "version": "3.9.7"
  },
  "orig_nbformat": 4
 },
 "nbformat": 4,
 "nbformat_minor": 2
}
